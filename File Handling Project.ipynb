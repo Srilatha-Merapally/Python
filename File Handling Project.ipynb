{
 "cells": [
  {
   "cell_type": "code",
   "execution_count": 17,
   "metadata": {},
   "outputs": [
    {
     "name": "stdout",
     "output_type": "stream",
     "text": [
      "<_io.TextIOWrapper name='read.txt' mode='rt' encoding='cp1252'>\n"
     ]
    }
   ],
   "source": [
    "#To open the text file\n",
    "#Note: Make sure the file exists, or else you will get an error.\n",
    "f=open(\"read.txt\",\"rt\")#r for read and t means text file\n",
    "print(f)"
   ]
  },
  {
   "cell_type": "code",
   "execution_count": 18,
   "metadata": {},
   "outputs": [
    {
     "name": "stdout",
     "output_type": "stream",
     "text": [
      "# Add total col as sum of individuals and family_members\n",
      "homelessness[\"total\"] = homelessness[\"individuals\"] + homelessness[\"family_members\"]\n",
      "\n",
      "# Add p_individuals col as proportion of total that are individuals\n",
      "homelessness[\"p_individuals\"] = homelessness[\"individuals\"] / homelessness[\"total\"]\n",
      "\n",
      "# See the result\n",
      "print(homelessness)\n",
      "\n",
      "................................................................................................\n",
      "\n",
      "# Create indiv_per_10k col as homeless individuals per 10k state pop\n",
      "homelessness[\"indiv_per_10k\"] = 10000 * homelessness[\"individuals\"] / homelessness[\"state_pop\"] \n",
      "\n",
      "# Subset rows for indiv_per_10k greater than 20\n",
      "high_homelessness = homelessness[homelessness[\"indiv_per_10k\"] > 20]\n",
      "\n",
      "# Sort high_homelessness by descending indiv_per_10k\n",
      "high_homelessness_srt = high_homelessness.sort_values(\"indiv_per_10k\", ascending=False)\n",
      "\n",
      "# From high_homelessness_srt, select the state and indiv_per_10k cols\n",
      "result = high_homelessness_srt[[\"state\", \"indiv_per_10k\"]]\n",
      "\n",
      "# See the result\n",
      "\n",
      "jungle plask api\n",
      "shyny forpython\n",
      "kaggle\n",
      "regelex\n",
      "iloc[0]--->open weather api\n",
      "pyqt6\n",
      "shyny for python\n",
      "streamlyt python\n",
      "qt designer buttons interfaces etc\n",
      "\n",
      "measureup microsoft practise tests\n",
      "\n",
      "\n",
      "\n",
      "\n"
     ]
    }
   ],
   "source": [
    "#To open the file, use the built-in open() function.\n",
    "#The open() function returns a file object, which has a read() method for reading the content of the file:\n",
    "f=open(\"read.txt\",\"r\")\n",
    "print(f.read())"
   ]
  },
  {
   "cell_type": "code",
   "execution_count": 19,
   "metadata": {},
   "outputs": [
    {
     "name": "stdout",
     "output_type": "stream",
     "text": [
      "1)Show a menu\n",
      "2)ask for user input\n",
      "3a)input=1 ask user for input\n",
      "add input to dictionary or list\n",
      "3b)input=z\n",
      "putuser input into groups of z,based on random or random.randint()\n",
      "dhow groups\n",
      "\n",
      "sergi\n",
      "what you want to after this course \n",
      "what you had done\n",
      "towardsdatascience.com\n"
     ]
    }
   ],
   "source": [
    "#If the file is located in a different location, you will have to specify the file path, like this:\n",
    "\n",
    "#If you done specify r String you will get eror with backslashes in the path\n",
    "\n",
    "f=open(r\"C:\\Users\\test\\Documents\\Phython Material\\Python\\Python\\task.txt\",\"r\")\n",
    "\n",
    "print(f.read())"
   ]
  },
  {
   "cell_type": "code",
   "execution_count": 20,
   "metadata": {},
   "outputs": [
    {
     "name": "stdout",
     "output_type": "stream",
     "text": [
      "# Add\n"
     ]
    }
   ],
   "source": [
    "#Read Only Parts of the File\n",
    "#By default the read() method returns the whole text, but you can also specify how many characters you want to return:\n",
    "\n",
    "f=open(\"read.txt\",'r')\n",
    "print(f.read(5))"
   ]
  },
  {
   "cell_type": "code",
   "execution_count": 21,
   "metadata": {},
   "outputs": [
    {
     "name": "stdout",
     "output_type": "stream",
     "text": [
      "# Add total col as sum of individuals and family_members\n",
      "\n"
     ]
    }
   ],
   "source": [
    "#Read Only Parts of the File\n",
    "#By default the read() method returns the whole text, but you can also specify how many characters you want to return:\n",
    "f=open('read.txt','r')\n",
    "print(f.readline())"
   ]
  },
  {
   "cell_type": "code",
   "execution_count": 22,
   "metadata": {},
   "outputs": [
    {
     "name": "stdout",
     "output_type": "stream",
     "text": [
      "# Add total col as sum of individuals and family_members\n",
      "\n",
      "homelessness[\"total\"] = homelessness[\"individuals\"] + homelessness[\"family_members\"]\n",
      "\n"
     ]
    }
   ],
   "source": [
    "#By calling readline() two times, you can read the two first lines:\n",
    "f=open('read.txt','r')\n",
    "print(f.readline())\n",
    "print(f.readline())"
   ]
  },
  {
   "cell_type": "code",
   "execution_count": 23,
   "metadata": {},
   "outputs": [
    {
     "name": "stdout",
     "output_type": "stream",
     "text": [
      "# Add total col as sum of individuals and family_members\n",
      "\n",
      "homelessness[\"total\"] = homelessness[\"individuals\"] + homelessness[\"family_members\"]\n",
      "\n",
      "\n",
      "\n",
      "# Add p_individuals col as proportion of total that are individuals\n",
      "\n",
      "homelessness[\"p_individuals\"] = homelessness[\"individuals\"] / homelessness[\"total\"]\n",
      "\n",
      "\n",
      "\n",
      "# See the result\n",
      "\n",
      "print(homelessness)\n",
      "\n",
      "\n",
      "\n",
      "................................................................................................\n",
      "\n",
      "\n",
      "\n",
      "# Create indiv_per_10k col as homeless individuals per 10k state pop\n",
      "\n",
      "homelessness[\"indiv_per_10k\"] = 10000 * homelessness[\"individuals\"] / homelessness[\"state_pop\"] \n",
      "\n",
      "\n",
      "\n",
      "# Subset rows for indiv_per_10k greater than 20\n",
      "\n",
      "high_homelessness = homelessness[homelessness[\"indiv_per_10k\"] > 20]\n",
      "\n",
      "\n",
      "\n",
      "# Sort high_homelessness by descending indiv_per_10k\n",
      "\n",
      "high_homelessness_srt = high_homelessness.sort_values(\"indiv_per_10k\", ascending=False)\n",
      "\n",
      "\n",
      "\n",
      "# From high_homelessness_srt, select the state and indiv_per_10k cols\n",
      "\n",
      "result = high_homelessness_srt[[\"state\", \"indiv_per_10k\"]]\n",
      "\n",
      "\n",
      "\n",
      "# See the result\n",
      "\n",
      "\n",
      "\n",
      "jungle plask api\n",
      "\n",
      "shyny forpython\n",
      "\n",
      "kaggle\n",
      "\n",
      "regelex\n",
      "\n",
      "iloc[0]--->open weather api\n",
      "\n",
      "pyqt6\n",
      "\n",
      "shyny for python\n",
      "\n",
      "streamlyt python\n",
      "\n",
      "qt designer buttons interfaces etc\n",
      "\n",
      "\n",
      "\n",
      "measureup microsoft practise tests\n",
      "\n",
      "\n",
      "\n",
      "\n",
      "\n",
      "\n",
      "\n"
     ]
    }
   ],
   "source": [
    "#By looping through the lines of the file, you can read the whole file, line by line:\n",
    "\n",
    "f=open('read.txt','r')\n",
    "\n",
    "for x in f:\n",
    "    \n",
    "    print(x)"
   ]
  },
  {
   "cell_type": "code",
   "execution_count": 25,
   "metadata": {},
   "outputs": [
    {
     "name": "stdout",
     "output_type": "stream",
     "text": [
      "# Add total col as sum of individuals and family_members\n",
      "\n"
     ]
    }
   ],
   "source": [
    "#Close Files\n",
    "\n",
    "#It is a good  to always close the file when you are done with it.\n",
    "\n",
    "f=open('read.txt','r')\n",
    "print(f.readline())\n",
    "f.close()\n",
    "\n",
    "# You should always close your files, in some cases, due to buffering, changes made to a file may not show until you close the file."
   ]
  },
  {
   "cell_type": "code",
   "execution_count": 26,
   "metadata": {},
   "outputs": [
    {
     "name": "stdout",
     "output_type": "stream",
     "text": [
      "# Add total col as sum of individuals and family_members\n",
      "homelessness[\"total\"] = homelessness[\"individuals\"] + homelessness[\"family_members\"]\n",
      "\n",
      "# Add p_individuals col as proportion of total that are individuals\n",
      "homelessness[\"p_individuals\"] = homelessness[\"individuals\"] / homelessness[\"total\"]\n",
      "\n",
      "# See the result\n",
      "print(homelessness)\n",
      "\n",
      "................................................................................................\n",
      "\n",
      "# Create indiv_per_10k col as homeless individuals per 10k state pop\n",
      "homelessness[\"indiv_per_10k\"] = 10000 * homelessness[\"individuals\"] / homelessness[\"state_pop\"] \n",
      "\n",
      "# Subset rows for indiv_per_10k greater than 20\n",
      "high_homelessness = homelessness[homelessness[\"indiv_per_10k\"] > 20]\n",
      "\n",
      "# Sort high_homelessness by descending indiv_per_10k\n",
      "high_homelessness_srt = high_homelessness.sort_values(\"indiv_per_10k\", ascending=False)\n",
      "\n",
      "# From high_homelessness_srt, select the state and indiv_per_10k cols\n",
      "result = high_homelessness_srt[[\"state\", \"indiv_per_10k\"]]\n",
      "\n",
      "# See the result\n",
      "\n",
      "jungle plask api\n",
      "shyny forpython\n",
      "kaggle\n",
      "regelex\n",
      "iloc[0]--->open weather api\n",
      "pyqt6\n",
      "shyny for python\n",
      "streamlyt python\n",
      "qt designer buttons interfaces etc\n",
      "\n",
      "measureup microsoft practise tests\n",
      "\n",
      "\n",
      "\n",
      "My first write method to add into text file\n"
     ]
    }
   ],
   "source": [
    "\"\"\"Write to an Existing File\n",
    "To write to an existing file, you must add a parameter to the open() function:\n",
    "\n",
    "\"a\" - Append - will append to the end of the file\n",
    "\n",
    "\"w\" - Write - will overwrite any existing content\"\"\"\n",
    "\n",
    "f=open(\"read.txt\",'a')\n",
    "f.write(\"My first write method to add into text file\")\n",
    "f.close()\n",
    "\n",
    "#Open and read the file after appending\n",
    "f=open(\"read.txt\",'r')\n",
    "print(f.read())\n"
   ]
  },
  {
   "cell_type": "code",
   "execution_count": 27,
   "metadata": {},
   "outputs": [
    {
     "name": "stdout",
     "output_type": "stream",
     "text": [
      "I am overwriting the file\n"
     ]
    }
   ],
   "source": [
    "#Over writing the file\n",
    "#the \"w\" method will overwrite the entire file.\n",
    "\n",
    "f=open('read.txt','w')\n",
    "\n",
    "f.write('I am overwriting the file')\n",
    "f.close()\n",
    "\n",
    "\n",
    "#After over writing the file\n",
    "\n",
    "f=open('read.txt','r')\n",
    "print(f.read())"
   ]
  },
  {
   "cell_type": "code",
   "execution_count": 6,
   "metadata": {},
   "outputs": [],
   "source": [
    "\"\"\"Create a New File\n",
    "To create a new file in Python, use the open() method, with one of the following parameters:\n",
    "\n",
    "\"x\" - Create - will create a file, returns an error if the file exist\n",
    "\n",
    "\"a\" - Append - will create a file if the specified file does not exist\n",
    "\n",
    "\"w\" - Write - will create a file if the specified file does not exist\"\"\"\n",
    "\n",
    "f = open(\"creatingfile2.txt\",\"x\")\n",
    "\n",
    "#If werun the above code second time it gives errot as like  the file is already exist"
   ]
  },
  {
   "cell_type": "code",
   "execution_count": 9,
   "metadata": {},
   "outputs": [],
   "source": [
    "#Create a new file if it does not exist:\n",
    "\n",
    "f=open('creatingfile1','w')"
   ]
  },
  {
   "cell_type": "code",
   "execution_count": 11,
   "metadata": {},
   "outputs": [],
   "source": [
    "\"\"\"Delete a File\n",
    "To delete a file, you must import the OS module, and run its os.remove() function:\"\"\"\n",
    "\n",
    "import os\n",
    "os.remove('creatingfile1.txt')"
   ]
  },
  {
   "cell_type": "code",
   "execution_count": 12,
   "metadata": {},
   "outputs": [
    {
     "name": "stdout",
     "output_type": "stream",
     "text": [
      "The file is not exist\n"
     ]
    }
   ],
   "source": [
    "\"\"\"Check if File exist:\n",
    "To avoid getting an error, you might want to check if the file exists before you try to delete it:\"\"\"\n",
    "\n",
    "if os.path.exists('creatingfile1.txt'):\n",
    "    os.remove('creatingfile1.txt')\n",
    "else:\n",
    "    print(\"The file is not exist\")\n",
    "\n",
    "#To delete an entire folder, use the os.rmdir() method:You can only remove empty folders."
   ]
  }
 ],
 "metadata": {
  "kernelspec": {
   "display_name": "Python 3",
   "language": "python",
   "name": "python3"
  },
  "language_info": {
   "codemirror_mode": {
    "name": "ipython",
    "version": 3
   },
   "file_extension": ".py",
   "mimetype": "text/x-python",
   "name": "python",
   "nbconvert_exporter": "python",
   "pygments_lexer": "ipython3",
   "version": "3.11.5"
  }
 },
 "nbformat": 4,
 "nbformat_minor": 2
}
